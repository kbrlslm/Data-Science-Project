{
  "nbformat": 4,
  "nbformat_minor": 0,
  "metadata": {
    "colab": {
      "name": "Data_Science_Model.ipynb",
      "provenance": [],
      "authorship_tag": "ABX9TyOF20WIEc55QiJynAP1/hyw",
      "include_colab_link": true
    },
    "kernelspec": {
      "name": "python3",
      "display_name": "Python 3"
    },
    "language_info": {
      "name": "python"
    }
  },
  "cells": [
    {
      "cell_type": "markdown",
      "metadata": {
        "id": "view-in-github",
        "colab_type": "text"
      },
      "source": [
        "<a href=\"https://colab.research.google.com/github/kbrlslm/Data-Science-Project/blob/main/Data_Science_Model.ipynb\" target=\"_parent\"><img src=\"https://colab.research.google.com/assets/colab-badge.svg\" alt=\"Open In Colab\"/></a>"
      ]
    },
    {
      "cell_type": "code",
      "execution_count": 37,
      "metadata": {
        "id": "cPOLgpIoEQxj"
      },
      "outputs": [],
      "source": [
        "# import libraries\n",
        "from datetime import datetime as dt\n",
        "import numpy as np \n",
        "import pandas as pd\n",
        "import seaborn as sns\n",
        "import matplotlib.pyplot as plt\n",
        "import math"
      ]
    },
    {
      "cell_type": "code",
      "source": [
        "# Download the dataset\n",
        "# i) Clean Data for NYC_ARREST\n",
        "# ii) Unemployment Data in NYC\n",
        "# iii) GDP  in NYC\n",
        "!gdown 1t6XrS3vdOfwGHlHafA2pek1Hfbuf3ObE\n",
        "!gdown 1-2N7AbBI2sUNy7XbGcQKYrS8kKRW3wTt\n",
        "!gdown 1ZTYw4aNzugVcHH1C_h8tIwczjCEur5Bd"
      ],
      "metadata": {
        "colab": {
          "base_uri": "https://localhost:8080/"
        },
        "id": "sVpe4xSdEw2t",
        "outputId": "34d9d228-fa04-412b-9d1c-bd5843fda614"
      },
      "execution_count": 38,
      "outputs": [
        {
          "output_type": "stream",
          "name": "stdout",
          "text": [
            "Downloading...\n",
            "From: https://drive.google.com/uc?id=1t6XrS3vdOfwGHlHafA2pek1Hfbuf3ObE\n",
            "To: /content/data_clean.csv\n",
            "100% 373M/373M [00:02<00:00, 184MB/s]\n",
            "Downloading...\n",
            "From: https://drive.google.com/uc?id=1-2N7AbBI2sUNy7XbGcQKYrS8kKRW3wTt\n",
            "To: /content/NYC_Unemployment.csv\n",
            "100% 3.27k/3.27k [00:00<00:00, 5.21MB/s]\n",
            "Downloading...\n",
            "From: https://drive.google.com/uc?id=1ZTYw4aNzugVcHH1C_h8tIwczjCEur5Bd\n",
            "To: /content/gdp.csv\n",
            "100% 1.88k/1.88k [00:00<00:00, 3.00MB/s]\n"
          ]
        }
      ]
    },
    {
      "cell_type": "code",
      "source": [
        "# import the dataset\n",
        "df_un=pd.read_csv('NYC_Unemployment.csv')\n",
        "df_gdp=pd.read_csv('gdp.csv')\n",
        "df_crimerate=pd.read_csv('data_clean.csv')"
      ],
      "metadata": {
        "id": "W8hGp4rZKJTd"
      },
      "execution_count": 39,
      "outputs": []
    },
    {
      "cell_type": "markdown",
      "source": [
        "**Linear Regression by Crime Rate Per Year**"
      ],
      "metadata": {
        "id": "MZw8FZ9QKjxR"
      }
    },
    {
      "cell_type": "code",
      "source": [
        "# import libraries\n",
        "from sklearn.linear_model import LinearRegression \n",
        "from sklearn.model_selection import train_test_split\n",
        "from sklearn.metrics import mean_squared_error, r2_score\n",
        "import matplotlib.pyplot as plt"
      ],
      "metadata": {
        "id": "Km9TL3HmLqY1"
      },
      "execution_count": 40,
      "outputs": []
    },
    {
      "cell_type": "code",
      "source": [
        "ARREST_YEAR = pd.to_datetime(df_crimerate['ARREST_DATE']).dt.year\n",
        "\n",
        "# make a dataframe to have crime rate per year (# of arrests / # NYC population) * 100000)\n",
        "nyc_pop = 8175000 # according to 2010 census\n",
        "per_100k = 100000\n",
        "\n",
        "yearly_crime_rate = (((ARREST_YEAR.value_counts(ascending=True))/nyc_pop)*per_100k).rename_axis('ARREST_YEAR').reset_index(name='ARREST_COUNT')\n",
        "yearly_crime_rate"
      ],
      "metadata": {
        "colab": {
          "base_uri": "https://localhost:8080/",
          "height": 520
        },
        "id": "RWbYzUHQKs1v",
        "outputId": "fa2f7bd5-5a62-41dc-d980-c810538782d2"
      },
      "execution_count": 98,
      "outputs": [
        {
          "output_type": "execute_result",
          "data": {
            "text/plain": [
              "    ARREST_YEAR  ARREST_COUNT\n",
              "0          2020   1700.146789\n",
              "1          2019   2606.593272\n",
              "2          2018   2987.131498\n",
              "3          2017   3472.207951\n",
              "4          2016   3821.443425\n",
              "5          2015   4124.685015\n",
              "6          2006   4535.547401\n",
              "7          2014   4720.183486\n",
              "8          2013   4790.042813\n",
              "9          2012   4818.911315\n",
              "10         2008   4896.293578\n",
              "11         2007   4918.960245\n",
              "12         2011   5026.764526\n",
              "13         2009   5135.363914\n",
              "14         2010   5144.403670"
            ],
            "text/html": [
              "\n",
              "  <div id=\"df-00a2a385-b334-4a6d-af9f-e27f7f04ab31\">\n",
              "    <div class=\"colab-df-container\">\n",
              "      <div>\n",
              "<style scoped>\n",
              "    .dataframe tbody tr th:only-of-type {\n",
              "        vertical-align: middle;\n",
              "    }\n",
              "\n",
              "    .dataframe tbody tr th {\n",
              "        vertical-align: top;\n",
              "    }\n",
              "\n",
              "    .dataframe thead th {\n",
              "        text-align: right;\n",
              "    }\n",
              "</style>\n",
              "<table border=\"1\" class=\"dataframe\">\n",
              "  <thead>\n",
              "    <tr style=\"text-align: right;\">\n",
              "      <th></th>\n",
              "      <th>ARREST_YEAR</th>\n",
              "      <th>ARREST_COUNT</th>\n",
              "    </tr>\n",
              "  </thead>\n",
              "  <tbody>\n",
              "    <tr>\n",
              "      <th>0</th>\n",
              "      <td>2020</td>\n",
              "      <td>1700.146789</td>\n",
              "    </tr>\n",
              "    <tr>\n",
              "      <th>1</th>\n",
              "      <td>2019</td>\n",
              "      <td>2606.593272</td>\n",
              "    </tr>\n",
              "    <tr>\n",
              "      <th>2</th>\n",
              "      <td>2018</td>\n",
              "      <td>2987.131498</td>\n",
              "    </tr>\n",
              "    <tr>\n",
              "      <th>3</th>\n",
              "      <td>2017</td>\n",
              "      <td>3472.207951</td>\n",
              "    </tr>\n",
              "    <tr>\n",
              "      <th>4</th>\n",
              "      <td>2016</td>\n",
              "      <td>3821.443425</td>\n",
              "    </tr>\n",
              "    <tr>\n",
              "      <th>5</th>\n",
              "      <td>2015</td>\n",
              "      <td>4124.685015</td>\n",
              "    </tr>\n",
              "    <tr>\n",
              "      <th>6</th>\n",
              "      <td>2006</td>\n",
              "      <td>4535.547401</td>\n",
              "    </tr>\n",
              "    <tr>\n",
              "      <th>7</th>\n",
              "      <td>2014</td>\n",
              "      <td>4720.183486</td>\n",
              "    </tr>\n",
              "    <tr>\n",
              "      <th>8</th>\n",
              "      <td>2013</td>\n",
              "      <td>4790.042813</td>\n",
              "    </tr>\n",
              "    <tr>\n",
              "      <th>9</th>\n",
              "      <td>2012</td>\n",
              "      <td>4818.911315</td>\n",
              "    </tr>\n",
              "    <tr>\n",
              "      <th>10</th>\n",
              "      <td>2008</td>\n",
              "      <td>4896.293578</td>\n",
              "    </tr>\n",
              "    <tr>\n",
              "      <th>11</th>\n",
              "      <td>2007</td>\n",
              "      <td>4918.960245</td>\n",
              "    </tr>\n",
              "    <tr>\n",
              "      <th>12</th>\n",
              "      <td>2011</td>\n",
              "      <td>5026.764526</td>\n",
              "    </tr>\n",
              "    <tr>\n",
              "      <th>13</th>\n",
              "      <td>2009</td>\n",
              "      <td>5135.363914</td>\n",
              "    </tr>\n",
              "    <tr>\n",
              "      <th>14</th>\n",
              "      <td>2010</td>\n",
              "      <td>5144.403670</td>\n",
              "    </tr>\n",
              "  </tbody>\n",
              "</table>\n",
              "</div>\n",
              "      <button class=\"colab-df-convert\" onclick=\"convertToInteractive('df-00a2a385-b334-4a6d-af9f-e27f7f04ab31')\"\n",
              "              title=\"Convert this dataframe to an interactive table.\"\n",
              "              style=\"display:none;\">\n",
              "        \n",
              "  <svg xmlns=\"http://www.w3.org/2000/svg\" height=\"24px\"viewBox=\"0 0 24 24\"\n",
              "       width=\"24px\">\n",
              "    <path d=\"M0 0h24v24H0V0z\" fill=\"none\"/>\n",
              "    <path d=\"M18.56 5.44l.94 2.06.94-2.06 2.06-.94-2.06-.94-.94-2.06-.94 2.06-2.06.94zm-11 1L8.5 8.5l.94-2.06 2.06-.94-2.06-.94L8.5 2.5l-.94 2.06-2.06.94zm10 10l.94 2.06.94-2.06 2.06-.94-2.06-.94-.94-2.06-.94 2.06-2.06.94z\"/><path d=\"M17.41 7.96l-1.37-1.37c-.4-.4-.92-.59-1.43-.59-.52 0-1.04.2-1.43.59L10.3 9.45l-7.72 7.72c-.78.78-.78 2.05 0 2.83L4 21.41c.39.39.9.59 1.41.59.51 0 1.02-.2 1.41-.59l7.78-7.78 2.81-2.81c.8-.78.8-2.07 0-2.86zM5.41 20L4 18.59l7.72-7.72 1.47 1.35L5.41 20z\"/>\n",
              "  </svg>\n",
              "      </button>\n",
              "      \n",
              "  <style>\n",
              "    .colab-df-container {\n",
              "      display:flex;\n",
              "      flex-wrap:wrap;\n",
              "      gap: 12px;\n",
              "    }\n",
              "\n",
              "    .colab-df-convert {\n",
              "      background-color: #E8F0FE;\n",
              "      border: none;\n",
              "      border-radius: 50%;\n",
              "      cursor: pointer;\n",
              "      display: none;\n",
              "      fill: #1967D2;\n",
              "      height: 32px;\n",
              "      padding: 0 0 0 0;\n",
              "      width: 32px;\n",
              "    }\n",
              "\n",
              "    .colab-df-convert:hover {\n",
              "      background-color: #E2EBFA;\n",
              "      box-shadow: 0px 1px 2px rgba(60, 64, 67, 0.3), 0px 1px 3px 1px rgba(60, 64, 67, 0.15);\n",
              "      fill: #174EA6;\n",
              "    }\n",
              "\n",
              "    [theme=dark] .colab-df-convert {\n",
              "      background-color: #3B4455;\n",
              "      fill: #D2E3FC;\n",
              "    }\n",
              "\n",
              "    [theme=dark] .colab-df-convert:hover {\n",
              "      background-color: #434B5C;\n",
              "      box-shadow: 0px 1px 3px 1px rgba(0, 0, 0, 0.15);\n",
              "      filter: drop-shadow(0px 1px 2px rgba(0, 0, 0, 0.3));\n",
              "      fill: #FFFFFF;\n",
              "    }\n",
              "  </style>\n",
              "\n",
              "      <script>\n",
              "        const buttonEl =\n",
              "          document.querySelector('#df-00a2a385-b334-4a6d-af9f-e27f7f04ab31 button.colab-df-convert');\n",
              "        buttonEl.style.display =\n",
              "          google.colab.kernel.accessAllowed ? 'block' : 'none';\n",
              "\n",
              "        async function convertToInteractive(key) {\n",
              "          const element = document.querySelector('#df-00a2a385-b334-4a6d-af9f-e27f7f04ab31');\n",
              "          const dataTable =\n",
              "            await google.colab.kernel.invokeFunction('convertToInteractive',\n",
              "                                                     [key], {});\n",
              "          if (!dataTable) return;\n",
              "\n",
              "          const docLinkHtml = 'Like what you see? Visit the ' +\n",
              "            '<a target=\"_blank\" href=https://colab.research.google.com/notebooks/data_table.ipynb>data table notebook</a>'\n",
              "            + ' to learn more about interactive tables.';\n",
              "          element.innerHTML = '';\n",
              "          dataTable['output_type'] = 'display_data';\n",
              "          await google.colab.output.renderOutput(dataTable, element);\n",
              "          const docLink = document.createElement('div');\n",
              "          docLink.innerHTML = docLinkHtml;\n",
              "          element.appendChild(docLink);\n",
              "        }\n",
              "      </script>\n",
              "    </div>\n",
              "  </div>\n",
              "  "
            ]
          },
          "metadata": {},
          "execution_count": 98
        }
      ]
    },
    {
      "cell_type": "code",
      "source": [
        "# get feature & target from dataframe\n",
        "feature = yearly_crime_rate[['ARREST_YEAR']]\n",
        "target = yearly_crime_rate[['ARREST_COUNT']]\n",
        "\n",
        "# split data into training & test data\n",
        "X_train, X_test, y_train, y_test = train_test_split(feature, target, test_size=0.25)"
      ],
      "metadata": {
        "id": "wFQ3LIXhLZnM"
      },
      "execution_count": 99,
      "outputs": []
    },
    {
      "cell_type": "code",
      "source": [
        "reg = LinearRegression()\n",
        "\n",
        "reg.fit(X_train, y_train)\n",
        "\n",
        "y_pred = reg.predict(X_test)\n",
        "\n",
        "print('Coefficients: ', reg.coef_)\n",
        "print('Mean squared error: {}'.format(mean_squared_error(y_test, y_pred)))\n",
        "print('Coefficient of determination: {}'.format(r2_score(y_test, y_pred)))\n",
        "print(\"Score gotten from cross-validation:\",reg.score(X_test,y_test))\n",
        "\n",
        "plt.scatter(X_test,y_test, color='black')\n",
        "plt.plot(X_test, y_pred, color='blue', linewidth=3)\n",
        "\n",
        "plt.xticks(())\n",
        "plt.yticks(())\n",
        "\n",
        "plt.show()"
      ],
      "metadata": {
        "colab": {
          "base_uri": "https://localhost:8080/",
          "height": 321
        },
        "id": "tQoQxTNkLxzV",
        "outputId": "05b5af95-ec99-40e5-e819-4f9c4b39e21f"
      },
      "execution_count": 100,
      "outputs": [
        {
          "output_type": "stream",
          "name": "stdout",
          "text": [
            "Coefficients:  [[-201.92025661]]\n",
            "Mean squared error: 205844.51829112018\n",
            "Coefficient of determination: 0.4743587639160115\n",
            "Score gotten from cross-validation: 0.4743587639160115\n"
          ]
        },
        {
          "output_type": "display_data",
          "data": {
            "text/plain": [
              "<Figure size 432x288 with 1 Axes>"
            ],
            "image/png": "[encoded data removed]"
          },
          "metadata": {}
        }
      ]
    },
    {
      "cell_type": "markdown",
      "source": [
        "### **Impact of Economic Factor on Crime**"
      ],
      "metadata": {
        "id": "X2bZhJgFNjD0"
      }
    },
    {
      "cell_type": "markdown",
      "source": [
        "### **GDP**"
      ],
      "metadata": {
        "id": "snhWMJ_1N5gO"
      }
    },
    {
      "cell_type": "code",
      "source": [
        "#Converting the datatype from object to datetime\n",
        "df_crimerate['ARREST_DATE'] = pd.to_datetime(df_crimerate['ARREST_DATE'])"
      ],
      "metadata": {
        "id": "hWC9SizjOhu8"
      },
      "execution_count": 101,
      "outputs": []
    },
    {
      "cell_type": "code",
      "source": [
        "#Extracting the year and month\n",
        "df_crimerate['ARREST_DATE'] = df_crimerate['ARREST_DATE'].dt.strftime('%Y')\n"
      ],
      "metadata": {
        "id": "9CMTPPySN1mf"
      },
      "execution_count": 102,
      "outputs": []
    },
    {
      "cell_type": "code",
      "source": [
        "#Counting the arrests based on individual month and year\n",
        "ANNUAL_ARRESTS = df_crimerate['ARREST_DATE'].value_counts().rename_axis('ARREST_YEAR').reset_index(name='ARREST_COUNT')\n",
        "#Sorting the values from 2006-01 to 2019-12\n",
        "ANNUAL_ARRESTS=ANNUAL_ARRESTS.sort_values(by='ARREST_YEAR',ascending=True)\n",
        "# fill the NaN value of the dataframe\n",
        "ANNUAL_ARRESTS =  ANNUAL_ARRESTS.fillna(ANNUAL_ARRESTS.mean())\n",
        "ANNUAL_ARRESTS"
      ],
      "metadata": {
        "colab": {
          "base_uri": "https://localhost:8080/",
          "height": 520
        },
        "id": "DQcEQyxiO10u",
        "outputId": "c8408e3d-14e1-4e63-a1d8-b95ac793b479"
      },
      "execution_count": 103,
      "outputs": [
        {
          "output_type": "execute_result",
          "data": {
            "text/plain": [
              "   ARREST_YEAR  ARREST_COUNT\n",
              "8         2006        370781\n",
              "3         2007        402125\n",
              "4         2008        400272\n",
              "1         2009        419816\n",
              "0         2010        420555\n",
              "2         2011        410938\n",
              "5         2012        393946\n",
              "6         2013        391586\n",
              "7         2014        385875\n",
              "9         2015        337193\n",
              "10        2016        312403\n",
              "11        2017        283853\n",
              "12        2018        244198\n",
              "13        2019        213089\n",
              "14        2020        138987"
            ],
            "text/html": [
              "\n",
              "  <div id=\"df-0bc309f7-7cf2-40d7-b12c-b27d4f0d5049\">\n",
              "    <div class=\"colab-df-container\">\n",
              "      <div>\n",
              "<style scoped>\n",
              "    .dataframe tbody tr th:only-of-type {\n",
              "        vertical-align: middle;\n",
              "    }\n",
              "\n",
              "    .dataframe tbody tr th {\n",
              "        vertical-align: top;\n",
              "    }\n",
              "\n",
              "    .dataframe thead th {\n",
              "        text-align: right;\n",
              "    }\n",
              "</style>\n",
              "<table border=\"1\" class=\"dataframe\">\n",
              "  <thead>\n",
              "    <tr style=\"text-align: right;\">\n",
              "      <th></th>\n",
              "      <th>ARREST_YEAR</th>\n",
              "      <th>ARREST_COUNT</th>\n",
              "    </tr>\n",
              "  </thead>\n",
              "  <tbody>\n",
              "    <tr>\n",
              "      <th>8</th>\n",
              "      <td>2006</td>\n",
              "      <td>370781</td>\n",
              "    </tr>\n",
              "    <tr>\n",
              "      <th>3</th>\n",
              "      <td>2007</td>\n",
              "      <td>402125</td>\n",
              "    </tr>\n",
              "    <tr>\n",
              "      <th>4</th>\n",
              "      <td>2008</td>\n",
              "      <td>400272</td>\n",
              "    </tr>\n",
              "    <tr>\n",
              "      <th>1</th>\n",
              "      <td>2009</td>\n",
              "      <td>419816</td>\n",
              "    </tr>\n",
              "    <tr>\n",
              "      <th>0</th>\n",
              "      <td>2010</td>\n",
              "      <td>420555</td>\n",
              "    </tr>\n",
              "    <tr>\n",
              "      <th>2</th>\n",
              "      <td>2011</td>\n",
              "      <td>410938</td>\n",
              "    </tr>\n",
              "    <tr>\n",
              "      <th>5</th>\n",
              "      <td>2012</td>\n",
              "      <td>393946</td>\n",
              "    </tr>\n",
              "    <tr>\n",
              "      <th>6</th>\n",
              "      <td>2013</td>\n",
              "      <td>391586</td>\n",
              "    </tr>\n",
              "    <tr>\n",
              "      <th>7</th>\n",
              "      <td>2014</td>\n",
              "      <td>385875</td>\n",
              "    </tr>\n",
              "    <tr>\n",
              "      <th>9</th>\n",
              "      <td>2015</td>\n",
              "      <td>337193</td>\n",
              "    </tr>\n",
              "    <tr>\n",
              "      <th>10</th>\n",
              "      <td>2016</td>\n",
              "      <td>312403</td>\n",
              "    </tr>\n",
              "    <tr>\n",
              "      <th>11</th>\n",
              "      <td>2017</td>\n",
              "      <td>283853</td>\n",
              "    </tr>\n",
              "    <tr>\n",
              "      <th>12</th>\n",
              "      <td>2018</td>\n",
              "      <td>244198</td>\n",
              "    </tr>\n",
              "    <tr>\n",
              "      <th>13</th>\n",
              "      <td>2019</td>\n",
              "      <td>213089</td>\n",
              "    </tr>\n",
              "    <tr>\n",
              "      <th>14</th>\n",
              "      <td>2020</td>\n",
              "      <td>138987</td>\n",
              "    </tr>\n",
              "  </tbody>\n",
              "</table>\n",
              "</div>\n",
              "      <button class=\"colab-df-convert\" onclick=\"convertToInteractive('df-0bc309f7-7cf2-40d7-b12c-b27d4f0d5049')\"\n",
              "              title=\"Convert this dataframe to an interactive table.\"\n",
              "              style=\"display:none;\">\n",
              "        \n",
              "  <svg xmlns=\"http://www.w3.org/2000/svg\" height=\"24px\"viewBox=\"0 0 24 24\"\n",
              "       width=\"24px\">\n",
              "    <path d=\"M0 0h24v24H0V0z\" fill=\"none\"/>\n",
              "    <path d=\"M18.56 5.44l.94 2.06.94-2.06 2.06-.94-2.06-.94-.94-2.06-.94 2.06-2.06.94zm-11 1L8.5 8.5l.94-2.06 2.06-.94-2.06-.94L8.5 2.5l-.94 2.06-2.06.94zm10 10l.94 2.06.94-2.06 2.06-.94-2.06-.94-.94-2.06-.94 2.06-2.06.94z\"/><path d=\"M17.41 7.96l-1.37-1.37c-.4-.4-.92-.59-1.43-.59-.52 0-1.04.2-1.43.59L10.3 9.45l-7.72 7.72c-.78.78-.78 2.05 0 2.83L4 21.41c.39.39.9.59 1.41.59.51 0 1.02-.2 1.41-.59l7.78-7.78 2.81-2.81c.8-.78.8-2.07 0-2.86zM5.41 20L4 18.59l7.72-7.72 1.47 1.35L5.41 20z\"/>\n",
              "  </svg>\n",
              "      </button>\n",
              "      \n",
              "  <style>\n",
              "    .colab-df-container {\n",
              "      display:flex;\n",
              "      flex-wrap:wrap;\n",
              "      gap: 12px;\n",
              "    }\n",
              "\n",
              "    .colab-df-convert {\n",
              "      background-color: #E8F0FE;\n",
              "      border: none;\n",
              "      border-radius: 50%;\n",
              "      cursor: pointer;\n",
              "      display: none;\n",
              "      fill: #1967D2;\n",
              "      height: 32px;\n",
              "      padding: 0 0 0 0;\n",
              "      width: 32px;\n",
              "    }\n",
              "\n",
              "    .colab-df-convert:hover {\n",
              "      background-color: #E2EBFA;\n",
              "      box-shadow: 0px 1px 2px rgba(60, 64, 67, 0.3), 0px 1px 3px 1px rgba(60, 64, 67, 0.15);\n",
              "      fill: #174EA6;\n",
              "    }\n",
              "\n",
              "    [theme=dark] .colab-df-convert {\n",
              "      background-color: #3B4455;\n",
              "      fill: #D2E3FC;\n",
              "    }\n",
              "\n",
              "    [theme=dark] .colab-df-convert:hover {\n",
              "      background-color: #434B5C;\n",
              "      box-shadow: 0px 1px 3px 1px rgba(0, 0, 0, 0.15);\n",
              "      filter: drop-shadow(0px 1px 2px rgba(0, 0, 0, 0.3));\n",
              "      fill: #FFFFFF;\n",
              "    }\n",
              "  </style>\n",
              "\n",
              "      <script>\n",
              "        const buttonEl =\n",
              "          document.querySelector('#df-0bc309f7-7cf2-40d7-b12c-b27d4f0d5049 button.colab-df-convert');\n",
              "        buttonEl.style.display =\n",
              "          google.colab.kernel.accessAllowed ? 'block' : 'none';\n",
              "\n",
              "        async function convertToInteractive(key) {\n",
              "          const element = document.querySelector('#df-0bc309f7-7cf2-40d7-b12c-b27d4f0d5049');\n",
              "          const dataTable =\n",
              "            await google.colab.kernel.invokeFunction('convertToInteractive',\n",
              "                                                     [key], {});\n",
              "          if (!dataTable) return;\n",
              "\n",
              "          const docLinkHtml = 'Like what you see? Visit the ' +\n",
              "            '<a target=\"_blank\" href=https://colab.research.google.com/notebooks/data_table.ipynb>data table notebook</a>'\n",
              "            + ' to learn more about interactive tables.';\n",
              "          element.innerHTML = '';\n",
              "          dataTable['output_type'] = 'display_data';\n",
              "          await google.colab.output.renderOutput(dataTable, element);\n",
              "          const docLink = document.createElement('div');\n",
              "          docLink.innerHTML = docLinkHtml;\n",
              "          element.appendChild(docLink);\n",
              "        }\n",
              "      </script>\n",
              "    </div>\n",
              "  </div>\n",
              "  "
            ]
          },
          "metadata": {},
          "execution_count": 103
        }
      ]
    },
    {
      "cell_type": "code",
      "source": [
        "#Setting up the target values for the model\n",
        "Y=pd.DataFrame(ANNUAL_ARRESTS['ARREST_COUNT'])\n",
        "Y['ARREST_COUNT']=Y['ARREST_COUNT'].tail(14)\n",
        "Y.reset_index(drop=True,inplace=True)"
      ],
      "metadata": {
        "id": "_OYozm3XPkVm"
      },
      "execution_count": 104,
      "outputs": []
    },
    {
      "cell_type": "code",
      "source": [
        "#Dropping the arrest_count column from annual_arrests dataframe because we dont need that\n",
        "#in the features\n",
        "ANNUAL_ARRESTS.drop(['ARREST_COUNT'],inplace=True,axis=1)"
      ],
      "metadata": {
        "id": "sobsIGwAQqVr"
      },
      "execution_count": 105,
      "outputs": []
    },
    {
      "cell_type": "code",
      "source": [
        "#Adding an extra column in the annual_arrests dataframe\n",
        "ANNUAL_ARRESTS['gdp_perc_change_from_prev_year']=df_gdp['gdp_perc_change_from_prev_year']\n"
      ],
      "metadata": {
        "id": "1Bwits_6RPwl"
      },
      "execution_count": 106,
      "outputs": []
    },
    {
      "cell_type": "code",
      "source": [
        "ANNUAL_ARRESTS.isna().sum().sum()"
      ],
      "metadata": {
        "colab": {
          "base_uri": "https://localhost:8080/"
        },
        "id": "fX87NWyUi7iq",
        "outputId": "0ee5ab5b-772c-4087-e231-478c5f10c30a"
      },
      "execution_count": 107,
      "outputs": [
        {
          "output_type": "execute_result",
          "data": {
            "text/plain": [
              "0"
            ]
          },
          "metadata": {},
          "execution_count": 107
        }
      ]
    },
    {
      "cell_type": "code",
      "source": [
        "#Selecting the features\n",
        "#Our features are Arrest year month and Unemployment Rate\n",
        "X=pd.DataFrame(ANNUAL_ARRESTS)\n",
        "X.reset_index(drop=True,inplace=True)"
      ],
      "metadata": {
        "id": "NRKUO3gvRbZ3"
      },
      "execution_count": 108,
      "outputs": []
    },
    {
      "cell_type": "code",
      "source": [
        "#Taking only year\n",
        "X['ARREST_YEAR']=ANNUAL_ARRESTS['ARREST_YEAR']\n",
        "X['ARREST_YEAR']=pd.to_datetime(X['ARREST_YEAR'])\n",
        "X['ARREST_YEAR']=X['ARREST_YEAR'].dt.year\n",
        "X['ARREST_YEAR']=X['ARREST_YEAR'].tail(14)"
      ],
      "metadata": {
        "id": "uNr0DoOjRvlQ"
      },
      "execution_count": 109,
      "outputs": []
    },
    {
      "cell_type": "code",
      "source": [
        "# Remove the NaN value for extra security\n",
        "Y = Y.fillna(Y.mean()) \n"
      ],
      "metadata": {
        "id": "IH2eytLtjE4U"
      },
      "execution_count": 128,
      "outputs": []
    },
    {
      "cell_type": "code",
      "source": [
        "#Filling up the null values with the last value\n",
        "X['gdp_perc_change_from_prev_year']=X['gdp_perc_change_from_prev_year'].fillna(method ='bfill')\n",
        "X['ARREST_YEAR']=X['ARREST_YEAR'].fillna(method ='bfill')\n",
        "X['gdp_perc_change_from_prev_year']=X['gdp_perc_change_from_prev_year'].tail(14)"
      ],
      "metadata": {
        "id": "C5ez0-w6R-IW"
      },
      "execution_count": 135,
      "outputs": []
    },
    {
      "cell_type": "code",
      "source": [
        "# Fill the NaN value if any\n",
        "X = X.fillna(X.mean())"
      ],
      "metadata": {
        "id": "PH76Xd7qk_k8"
      },
      "execution_count": 139,
      "outputs": []
    },
    {
      "cell_type": "markdown",
      "source": [
        "### **The following linear regression model calculates the future crime rate based on year and annual percent change of GDP in NYC.**"
      ],
      "metadata": {
        "id": "IyerDZNwSApf"
      }
    },
    {
      "cell_type": "code",
      "source": [
        "from sklearn.linear_model import LinearRegression \n",
        "from sklearn.model_selection import train_test_split\n",
        "import warnings\n",
        "warnings.filterwarnings('ignore')\n",
        "\n",
        "#Creating a linear Regression Model\n",
        "model = LinearRegression()\n",
        "X_train, X_test, Y_train, Y_test = train_test_split(X, Y,test_size=0.20)\n",
        "model.fit(X_train, Y_train)\n",
        "prediction= model.predict(X_test)\n",
        "Acc=model.score(X_test, Y_test)\n",
        "print (\"Accuracy={0:.2f}\".format(Acc))"
      ],
      "metadata": {
        "colab": {
          "base_uri": "https://localhost:8080/"
        },
        "id": "MqCo8iqESEqP",
        "outputId": "dc5151b7-5954-4dec-c494-7e19295fbbf7"
      },
      "execution_count": 141,
      "outputs": [
        {
          "output_type": "stream",
          "name": "stdout",
          "text": [
            "Accuracy=0.86\n"
          ]
        }
      ]
    },
    {
      "cell_type": "code",
      "source": [
        "print('In 2045, if the average annual GDP percent change in NYC is +40%, then the regression predicts there will be',math.ceil(abs(model.predict([[2045,0.40]]))),'arrests that year')\n",
        "\n",
        "print('In 2045, if the average annual GDP percent change in NYC is +1%, then the regression predicts there will be',math.ceil(abs(model.predict([[2045,0.01]]))),'arrests that year')\n"
      ],
      "metadata": {
        "colab": {
          "base_uri": "https://localhost:8080/"
        },
        "id": "IP8sMkxzlrvq",
        "outputId": "b83cf7ed-c3c1-4d3e-c963-9d81a35b1239"
      },
      "execution_count": 142,
      "outputs": [
        {
          "output_type": "stream",
          "name": "stdout",
          "text": [
            "In 2045, if the average annual GDP percent change in NYC is +40%, then the regression predicts there will be 177564 arrests that year\n",
            "In 2045, if the average annual GDP percent change in NYC is +1%, then the regression predicts there will be 178135 arrests that year\n"
          ]
        }
      ]
    },
    {
      "cell_type": "markdown",
      "source": [
        "### **The model predicts that as average annual GDP percent change in NYC increases, arrest count will decrease.**"
      ],
      "metadata": {
        "id": "90RknFGLmYyB"
      }
    },
    {
      "cell_type": "code",
      "source": [
        "fig = plt.figure()\n",
        "plt.scatter(Y_test,prediction)\n",
        "fig.suptitle('test vs prediction', fontsize=20)            \n",
        "plt.xlabel('Y_test', fontsize=18)                          \n",
        "plt.ylabel('prediction', fontsize=16)  "
      ],
      "metadata": {
        "colab": {
          "base_uri": "https://localhost:8080/",
          "height": 333
        },
        "id": "qGD-uMAMl-dP",
        "outputId": "62ebcbe2-9d43-49e3-e863-1fc135a1ddb0"
      },
      "execution_count": 144,
      "outputs": [
        {
          "output_type": "execute_result",
          "data": {
            "text/plain": [
              "Text(0, 0.5, 'prediction')"
            ]
          },
          "metadata": {},
          "execution_count": 144
        },
        {
          "output_type": "display_data",
          "data": {
            "text/plain": [
              "<Figure size 432x288 with 1 Axes>"
            ],
            "image/png": "[encoded data removed]"
          },
          "metadata": {
            "needs_background": "light"
          }
        }
      ]
    },
    {
      "cell_type": "markdown",
      "source": [
        "### **Impact of Unemployment Factor on Crime Rate**"
      ],
      "metadata": {
        "id": "eP-69HammPnp"
      }
    },
    {
      "cell_type": "code",
      "source": [
        "#Mapping the data values from object type to integer\n",
        "df_un['Month'] = df_un['Month'].map({ 'January': 1,\n",
        "                                                   'February': 2,\n",
        "                                                   'March': 3,\n",
        "                                                   'April': 4,\n",
        "                                                    'May':5,\n",
        "                                                     'June':6,\n",
        "                                                     'July':7,\n",
        "                                                     'August':8,\n",
        "                                                     'September':9,\n",
        "                                                     'October':10,\n",
        "                                                     'November':11,\n",
        "                                                     'December':12})"
      ],
      "metadata": {
        "id": "rJ8eDioLmvbA"
      },
      "execution_count": 146,
      "outputs": []
    },
    {
      "cell_type": "code",
      "source": [
        "#Dropping the first 12 rows because those are values from 2005\n",
        "#But we don't have arrest data from 2005 in our main dataset\n",
        "df_un=df_un.drop(range(0,12))"
      ],
      "metadata": {
        "id": "B4OM2weinCyt"
      },
      "execution_count": 147,
      "outputs": []
    },
    {
      "cell_type": "code",
      "source": [
        "\n",
        "#Converting the datatype from object to datetime\n",
        "df_crimerate['ARREST_DATE'] = pd.to_datetime(df_crimerate['ARREST_DATE'])"
      ],
      "metadata": {
        "id": "TBub9yANnSiD"
      },
      "execution_count": 149,
      "outputs": []
    },
    {
      "cell_type": "code",
      "source": [
        "#Extracting the year and month\n",
        "df_crimerate['ARREST_DATE'] = df_crimerate['ARREST_DATE'].dt.strftime('%Y-%m')"
      ],
      "metadata": {
        "id": "wDkL8FYOnjrW"
      },
      "execution_count": 150,
      "outputs": []
    },
    {
      "cell_type": "code",
      "source": [
        "#Counting the arrests based on individual month and year\n",
        "daily_arrests_month = df_crimerate['ARREST_DATE'].value_counts().rename_axis('ARREST_MONTH').reset_index(name='ARREST_COUNT')"
      ],
      "metadata": {
        "id": "VdtGpFlDn25i"
      },
      "execution_count": 151,
      "outputs": []
    },
    {
      "cell_type": "code",
      "source": [
        "#Sorting the values from 2006-01 to 2020-12\n",
        "daily_arrests_month=daily_arrests_month.sort_values(by='ARREST_MONTH',ascending=True)"
      ],
      "metadata": {
        "id": "vKDZYMFFoLeF"
      },
      "execution_count": 152,
      "outputs": []
    },
    {
      "cell_type": "code",
      "source": [
        "#Setting up the target values for the model\n",
        "Y=pd.DataFrame(daily_arrests_month['ARREST_COUNT'])\n",
        "Y.reset_index(drop=True,inplace=True)"
      ],
      "metadata": {
        "id": "15uxS8FloVMs"
      },
      "execution_count": 153,
      "outputs": []
    },
    {
      "cell_type": "code",
      "source": [
        "#Dropping the arrest_count column from daily_arrests_month dataframe because we dont need that\n",
        "#in the features\n",
        "daily_arrests_month.drop(['ARREST_COUNT'],inplace=True,axis=1)"
      ],
      "metadata": {
        "id": "B7nUv3uXof8V"
      },
      "execution_count": 154,
      "outputs": []
    },
    {
      "cell_type": "code",
      "source": [
        "#Adding an extra column in the daily_arrests_month dataframe\n",
        "daily_arrests_month['Rate']=df_un['Rate']"
      ],
      "metadata": {
        "id": "zff-sjJ8om3t"
      },
      "execution_count": 155,
      "outputs": []
    },
    {
      "cell_type": "code",
      "source": [
        "#Selecting the features\n",
        "#Our features are Arrest year month and Unemployment Rate\n",
        "X=pd.DataFrame(daily_arrests_month)\n",
        "X.reset_index(drop=True,inplace=True)"
      ],
      "metadata": {
        "id": "P7GLeYCPotwH"
      },
      "execution_count": 156,
      "outputs": []
    },
    {
      "cell_type": "code",
      "source": [
        "#Taking only year\n",
        "X['ARREST_MONTH']=daily_arrests_month['ARREST_MONTH']\n",
        "X['ARREST_MONTH']=pd.to_datetime(X['ARREST_MONTH'])\n",
        "X['ARREST_MONTH']=X['ARREST_MONTH'].dt.year"
      ],
      "metadata": {
        "id": "sSbDbQrko0eZ"
      },
      "execution_count": 158,
      "outputs": []
    },
    {
      "cell_type": "code",
      "source": [
        "#Filling up the null values with the last value\n",
        "X['Rate']=X['Rate'].fillna(method ='bfill')"
      ],
      "metadata": {
        "id": "PoqymW99pEbn"
      },
      "execution_count": 159,
      "outputs": []
    },
    {
      "cell_type": "markdown",
      "source": [
        "### **Below the LinearRegression model will calculate the future crime rate based on year and unemployment rate.**"
      ],
      "metadata": {
        "id": "-2-7Jix8pHA-"
      }
    },
    {
      "cell_type": "code",
      "source": [
        "from sklearn.linear_model import LinearRegression \n",
        "from sklearn.model_selection import train_test_split\n",
        "import warnings\n",
        "warnings.filterwarnings('ignore')\n",
        "\n",
        "#Creating a linear Regression Model\n",
        "model = LinearRegression()\n",
        "X_train, X_test, Y_train, Y_test = train_test_split(X, Y,test_size=0.20)\n",
        "model.fit(X_train, Y_train)\n",
        "prediction= model.predict(X_test)\n",
        "Acc=model.score(X_test, Y_test)\n",
        "print (\"Accuracy={0:.2f}\".format(Acc))"
      ],
      "metadata": {
        "colab": {
          "base_uri": "https://localhost:8080/"
        },
        "id": "ZG6jrd23pKv-",
        "outputId": "e267a11a-da4f-4a7c-dc96-b31df9c2ebdc"
      },
      "execution_count": 182,
      "outputs": [
        {
          "output_type": "stream",
          "name": "stdout",
          "text": [
            "Accuracy=0.93\n"
          ]
        }
      ]
    },
    {
      "cell_type": "code",
      "source": [
        "def Linear_prediction(year,rate):\n",
        "    import math\n",
        "    pred=(math.ceil(abs(model.predict([[year,rate]]))))*12\n",
        "    st='In the year of '+str(year)+ ' if the average unemployment rate of NYC is '+str(rate*100)+'% then there will be '+str(pred)+' crime'\n",
        "    return st\n",
        "print(Linear_prediction(2045,.01))\n",
        "print(Linear_prediction(2045,.88))"
      ],
      "metadata": {
        "colab": {
          "base_uri": "https://localhost:8080/"
        },
        "id": "8PDYdZxxpaGX",
        "outputId": "d0951c7b-6c5d-4d0c-eaa2-408ba0ce22ce"
      },
      "execution_count": 183,
      "outputs": [
        {
          "output_type": "stream",
          "name": "stdout",
          "text": [
            "In the year of 2045 if the average unemployment rate of NYC is 1.0% then there will be 8057496 crime\n",
            "In the year of 2045 if the average unemployment rate of NYC is 88.0% then there will be 115513848 crime\n"
          ]
        }
      ]
    },
    {
      "cell_type": "markdown",
      "source": [
        "### **So based on our model prediction, the crime rate will rise, if the unemployment rate rises.**"
      ],
      "metadata": {
        "id": "r1icqwIcpf1x"
      }
    },
    {
      "cell_type": "code",
      "source": [
        "fig = plt.figure()\n",
        "plt.scatter(Y_test,prediction)\n",
        "fig.suptitle('test vs prediction', fontsize=20)            \n",
        "plt.xlabel('Y_test', fontsize=18)                          \n",
        "plt.ylabel('prediction', fontsize=16) "
      ],
      "metadata": {
        "colab": {
          "base_uri": "https://localhost:8080/",
          "height": 333
        },
        "id": "wJ3mj_8hpdHn",
        "outputId": "28ba434a-09b7-4a5e-c06e-523d5c1d9d58"
      },
      "execution_count": 184,
      "outputs": [
        {
          "output_type": "execute_result",
          "data": {
            "text/plain": [
              "Text(0, 0.5, 'prediction')"
            ]
          },
          "metadata": {},
          "execution_count": 184
        },
        {
          "output_type": "display_data",
          "data": {
            "text/plain": [
              "<Figure size 432x288 with 1 Axes>"
            ],
            "image/png": "[encoded data removed]"
          },
          "metadata": {
            "needs_background": "light"
          }
        }
      ]
    }
  ]
}